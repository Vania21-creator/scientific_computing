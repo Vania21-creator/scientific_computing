{
  "nbformat": 4,
  "nbformat_minor": 0,
  "metadata": {
    "colab": {
      "provenance": []
    },
    "kernelspec": {
      "name": "python3",
      "display_name": "Python 3"
    },
    "language_info": {
      "name": "python"
    }
  },
  "cells": [
    {
      "cell_type": "markdown",
      "source": [
        "# Vania Andrylia Sugiharto - 2602151140\n",
        "\n",
        "LB20 AoL Scientific Computing\n",
        "\n"
      ],
      "metadata": {
        "id": "jXEemUZsb8Dv"
      }
    },
    {
      "cell_type": "markdown",
      "source": [
        "1. a. Estimate the temperature in even years by linear, quadratic and cubic interpolation !!!"
      ],
      "metadata": {
        "id": "h3VJoVV5cVfQ"
      }
    },
    {
      "cell_type": "code",
      "source": [
        "import numpy as np\n",
        "from scipy.interpolate import interp1d\n",
        "\n",
        "# Define the given data points\n",
        "years = np.array([1981, 1983, 1985, 1987, 1989, 1991, 1993, 1995, 1997, 1999])\n",
        "temperatures = np.array([14.1999, 14.2411, 14.0342, 14.2696, 14.197, 14.3055, 14.1853, 14.3577, 14.4187, 14.3438])\n",
        "\n",
        "# Define the even years for interpolation\n",
        "even_years = np.arange(1982, 2000, 2)\n",
        "\n",
        "# Perform linear interpolation\n",
        "linear_interp = interp1d(years, temperatures, kind='linear')\n",
        "linear_estimation = linear_interp(even_years)\n",
        "\n",
        "# Perform quadratic interpolation\n",
        "quadratic_interp = interp1d(years, temperatures, kind='quadratic')\n",
        "quadratic_estimation = quadratic_interp(even_years)\n",
        "\n",
        "# Perform cubic interpolation\n",
        "cubic_interp = interp1d(years, temperatures, kind='cubic')\n",
        "cubic_estimation = cubic_interp(even_years)\n",
        "\n",
        "# print the results\n",
        "print(\"Year\\t\\tLinear\\t\\tQuadratic\\tCubic\")\n",
        "for year, linear, quadratic, cubic in zip(even_years, linear_estimation, quadratic_estimation, cubic_estimation):\n",
        "    print(f\"{year}\\t\\t{linear:.4f}\\t\\t{quadratic:.4f}\\t\\t{cubic:.4f}\")"
      ],
      "metadata": {
        "colab": {
          "base_uri": "https://localhost:8080/"
        },
        "id": "RvelG8mEciIc",
        "outputId": "2edf7760-1024-4e30-d02f-d47e16c818ae"
      },
      "execution_count": 2,
      "outputs": [
        {
          "output_type": "stream",
          "name": "stdout",
          "text": [
            "Year\t\tLinear\t\tQuadratic\tCubic\n",
            "1982\t\t14.2205\t\t14.2694\t\t14.3258\n",
            "1984\t\t14.1377\t\t14.1149\t\t14.0944\n",
            "1986\t\t14.1519\t\t14.1426\t\t14.1469\n",
            "1988\t\t14.2333\t\t14.2450\t\t14.2461\n",
            "1990\t\t14.2512\t\t14.2537\t\t14.2526\n",
            "1992\t\t14.2454\t\t14.2427\t\t14.2450\n",
            "1994\t\t14.2715\t\t14.2533\t\t14.2477\n",
            "1996\t\t14.3882\t\t14.4092\t\t14.4157\n",
            "1998\t\t14.3812\t\t14.3969\t\t14.3877\n"
          ]
        }
      ]
    },
    {
      "cell_type": "markdown",
      "source": [
        "1. b. Least Square Regression of the above data to estimate the temperature in even years"
      ],
      "metadata": {
        "id": "pX8AYLkqhL-9"
      }
    },
    {
      "cell_type": "code",
      "source": [
        "import numpy as np\n",
        "from scipy.optimize import curve_fit\n",
        "\n",
        "# Define the data points\n",
        "years = np.array([1981, 1983, 1985, 1987, 1989, 1991, 1993, 1995, 1997, 1999])\n",
        "temperatures = np.array([14.1999, 14.2411, 14.0342, 14.2696, 14.197, 14.3055, 14.1853, 14.3577, 14.4187, 14.3438])\n",
        "\n",
        "# Define the function to fit\n",
        "def linear_function(x, a, b):\n",
        "    return a * x + b\n",
        "\n",
        "# Perform the least-squares regression\n",
        "params, _ = curve_fit(linear_function, years, temperatures)\n",
        "\n",
        "# Extract the estimated parameters\n",
        "a_estimated, b_estimated = params\n",
        "\n",
        "# Generate the estimated temperatures for even years\n",
        "even_years = np.arange(1982, 2000, 2)\n",
        "estimated_temperatures = linear_function(even_years, a_estimated, b_estimated)\n",
        "\n",
        "# Print the estimated temperatures for even years\n",
        "for year, temperature in zip(even_years, estimated_temperatures):\n",
        "    print(f\"Year: {year}, Estimated Temperature: {temperature} °C\")"
      ],
      "metadata": {
        "colab": {
          "base_uri": "https://localhost:8080/"
        },
        "id": "Q_J6yvmBhWZW",
        "outputId": "8222e378-7c3c-4d8c-faee-29b98fc3f7f2"
      },
      "execution_count": 5,
      "outputs": [
        {
          "output_type": "stream",
          "name": "stdout",
          "text": [
            "Year: 1982, Estimated Temperature: 14.158033935098837 °C\n",
            "Year: 1984, Estimated Temperature: 14.18234545024614 °C\n",
            "Year: 1986, Estimated Temperature: 14.206656965393444 °C\n",
            "Year: 1988, Estimated Temperature: 14.230968480540751 °C\n",
            "Year: 1990, Estimated Temperature: 14.255279995688058 °C\n",
            "Year: 1992, Estimated Temperature: 14.279591510835361 °C\n",
            "Year: 1994, Estimated Temperature: 14.303903025982665 °C\n",
            "Year: 1996, Estimated Temperature: 14.328214541129972 °C\n",
            "Year: 1998, Estimated Temperature: 14.352526056277279 °C\n"
          ]
        }
      ]
    },
    {
      "cell_type": "markdown",
      "source": [
        "1. d. Plot Cubic Spline Interpolation Order"
      ],
      "metadata": {
        "id": "S2GIGMu6lEsi"
      }
    },
    {
      "cell_type": "markdown",
      "source": [
        "Odd Years"
      ],
      "metadata": {
        "id": "zxFQ9662leAu"
      }
    },
    {
      "cell_type": "code",
      "source": [
        "from scipy.interpolate import interp1d\n",
        "from scipy.interpolate import CubicSpline\n",
        "import matplotlib.pyplot as plt\n",
        "import matplotlib.pyplot as pl\n",
        "import numpy as np\n",
        "\n",
        "plt.style.use('seaborn-poster')\n",
        "x = [14.1999, 14.2411, 14.0342, 14.2696, 14.197, 14.3055, 14.1853, 14.3577, 14.4187, 14.3438]\n",
        "y = [1981, 1983, 1985, 1987, 1989, 1991, 1993, 1995, 1997, 1999]\n",
        "\n",
        "plt.plot(x,y,'-ob')"
      ],
      "metadata": {
        "colab": {
          "base_uri": "https://localhost:8080/",
          "height": 827
        },
        "id": "Ay4PGIZflggw",
        "outputId": "24e68c68-792d-46b7-aa93-9e0734cc8ae5"
      },
      "execution_count": 6,
      "outputs": [
        {
          "output_type": "stream",
          "name": "stderr",
          "text": [
            "<ipython-input-6-0c059b7219b1>:7: MatplotlibDeprecationWarning: The seaborn styles shipped by Matplotlib are deprecated since 3.6, as they no longer correspond to the styles shipped by seaborn. However, they will remain available as 'seaborn-v0_8-<style>'. Alternatively, directly use the seaborn API instead.\n",
            "  plt.style.use('seaborn-poster')\n"
          ]
        },
        {
          "output_type": "execute_result",
          "data": {
            "text/plain": [
              "[<matplotlib.lines.Line2D at 0x7f9d0aa35150>]"
            ]
          },
          "metadata": {},
          "execution_count": 6
        },
        {
          "output_type": "display_data",
          "data": {
            "text/plain": [
              "<Figure size 1280x880 with 1 Axes>"
            ],
            "image/png": "[encoded data removed]"
          },
          "metadata": {}
        }
      ]
    },
    {
      "cell_type": "markdown",
      "source": [
        "Make plot showing temperature in even years between 1982-1998 with interpolation"
      ],
      "metadata": {
        "id": "BNruCWa7lxDV"
      }
    },
    {
      "cell_type": "code",
      "source": [
        "f = interp1d(y,x)\n",
        "x_lin = f(1982)\n",
        "print(x_lin)"
      ],
      "metadata": {
        "colab": {
          "base_uri": "https://localhost:8080/"
        },
        "id": "ezBEnvANl7Ek",
        "outputId": "d95ed955-588d-4fac-ee7d-26608d4299d4"
      },
      "execution_count": 7,
      "outputs": [
        {
          "output_type": "stream",
          "name": "stdout",
          "text": [
            "14.2205\n"
          ]
        }
      ]
    },
    {
      "cell_type": "code",
      "source": [
        "f = interp1d(y,x)\n",
        "x_lin = f(1984)\n",
        "print(x_lin)"
      ],
      "metadata": {
        "colab": {
          "base_uri": "https://localhost:8080/"
        },
        "id": "xn35OMyzmHi3",
        "outputId": "8f83d446-3b61-45c8-d26a-a8cbaf473c17"
      },
      "execution_count": 8,
      "outputs": [
        {
          "output_type": "stream",
          "name": "stdout",
          "text": [
            "14.13765\n"
          ]
        }
      ]
    },
    {
      "cell_type": "code",
      "source": [
        "f =interp1d(y,x)\n",
        "x_lin = f(1986)\n",
        "print(x_lin)"
      ],
      "metadata": {
        "colab": {
          "base_uri": "https://localhost:8080/"
        },
        "id": "j6lcBzzenWap",
        "outputId": "4cb11340-e20e-4ec9-a13d-73d2fbb1dfd9"
      },
      "execution_count": 9,
      "outputs": [
        {
          "output_type": "stream",
          "name": "stdout",
          "text": [
            "14.151900000000001\n"
          ]
        }
      ]
    },
    {
      "cell_type": "code",
      "source": [
        "f =interp1d(y,x)\n",
        "x_lin = f(1988)\n",
        "print(x_lin)"
      ],
      "metadata": {
        "colab": {
          "base_uri": "https://localhost:8080/"
        },
        "id": "jB87h7B0nh0p",
        "outputId": "ceb18337-a712-4602-c36a-ef9fc9e6b31c"
      },
      "execution_count": 10,
      "outputs": [
        {
          "output_type": "stream",
          "name": "stdout",
          "text": [
            "14.2333\n"
          ]
        }
      ]
    },
    {
      "cell_type": "code",
      "source": [
        "f =interp1d(y,x)\n",
        "x_lin = f(1990)\n",
        "print(x_lin)"
      ],
      "metadata": {
        "colab": {
          "base_uri": "https://localhost:8080/"
        },
        "id": "qHGfHjAUnoj5",
        "outputId": "eeac8105-cc6d-4b54-8833-2a5e240c4722"
      },
      "execution_count": 11,
      "outputs": [
        {
          "output_type": "stream",
          "name": "stdout",
          "text": [
            "14.251249999999999\n"
          ]
        }
      ]
    },
    {
      "cell_type": "code",
      "source": [
        "f =interp1d(y,x)\n",
        "x_lin = f(1992)\n",
        "print(x_lin)"
      ],
      "metadata": {
        "colab": {
          "base_uri": "https://localhost:8080/"
        },
        "id": "YdzTNXifoWyt",
        "outputId": "d8bc93d6-8cdf-4db3-981f-ece75ab19cb9"
      },
      "execution_count": 12,
      "outputs": [
        {
          "output_type": "stream",
          "name": "stdout",
          "text": [
            "14.2454\n"
          ]
        }
      ]
    },
    {
      "cell_type": "code",
      "source": [
        "f =interp1d(y,x)\n",
        "x_lin = f(1994)\n",
        "print(x_lin)"
      ],
      "metadata": {
        "colab": {
          "base_uri": "https://localhost:8080/"
        },
        "id": "j7hVLIR8ob2J",
        "outputId": "2ebcdb65-ffe3-4f99-caee-63ef1aad8cf9"
      },
      "execution_count": 13,
      "outputs": [
        {
          "output_type": "stream",
          "name": "stdout",
          "text": [
            "14.2715\n"
          ]
        }
      ]
    },
    {
      "cell_type": "code",
      "source": [
        "f =interp1d(y,x)\n",
        "x_lin = f(1996)\n",
        "print(x_lin)"
      ],
      "metadata": {
        "colab": {
          "base_uri": "https://localhost:8080/"
        },
        "id": "Ocp4Srcxoezt",
        "outputId": "e8cb908b-89f6-4cd6-d188-d4972e004be4"
      },
      "execution_count": 14,
      "outputs": [
        {
          "output_type": "stream",
          "name": "stdout",
          "text": [
            "14.3882\n"
          ]
        }
      ]
    },
    {
      "cell_type": "code",
      "source": [
        "f =interp1d(y,x)\n",
        "x_lin = f(1998)\n",
        "print(x_lin)"
      ],
      "metadata": {
        "colab": {
          "base_uri": "https://localhost:8080/"
        },
        "id": "fQPiQEjUoh4E",
        "outputId": "a1251a47-4862-4344-cc38-17e43acceb53"
      },
      "execution_count": 15,
      "outputs": [
        {
          "output_type": "stream",
          "name": "stdout",
          "text": [
            "14.38125\n"
          ]
        }
      ]
    },
    {
      "cell_type": "code",
      "source": [
        "x = [14.2205, 14.13765, 14.151900000000001, 14.2333, 14.251249999999999, 14.2454, 14.2715, 14.3882, 14.38125]\n",
        "y = [1982, 1984, 1986, 1988, 1990, 1992, 1994, 1996, 1998]\n",
        "\n",
        "plt.plot(x,y,'-ob')"
      ],
      "metadata": {
        "colab": {
          "base_uri": "https://localhost:8080/",
          "height": 772
        },
        "id": "69datVRJperL",
        "outputId": "8d766329-988a-4cdf-9b65-91d82afd9d84"
      },
      "execution_count": 17,
      "outputs": [
        {
          "output_type": "execute_result",
          "data": {
            "text/plain": [
              "[<matplotlib.lines.Line2D at 0x7f9d085160e0>]"
            ]
          },
          "metadata": {},
          "execution_count": 17
        },
        {
          "output_type": "display_data",
          "data": {
            "text/plain": [
              "<Figure size 1280x880 with 1 Axes>"
            ],
            "image/png": "[encoded data removed]"
          },
          "metadata": {}
        }
      ]
    },
    {
      "cell_type": "markdown",
      "source": [
        "Make plot showing temperature in even years between 1982-1998 with Cubic Spline"
      ],
      "metadata": {
        "id": "fu1AW8Fcp7Vh"
      }
    },
    {
      "cell_type": "code",
      "source": [
        "f = CubicSpline(y,x, bc_type='natural')\n",
        "y_cub = np.linspace(1980, 1998,100)\n",
        "x_cub = f(y_cub)\n",
        "\n",
        "x_ask = f(1982)\n",
        "print (x_ask)"
      ],
      "metadata": {
        "colab": {
          "base_uri": "https://localhost:8080/"
        },
        "id": "qR9BRfrgp-Mo",
        "outputId": "d1f772e8-b473-45c0-f051-78644193b40a"
      },
      "execution_count": 18,
      "outputs": [
        {
          "output_type": "stream",
          "name": "stdout",
          "text": [
            "14.2205\n"
          ]
        }
      ]
    },
    {
      "cell_type": "code",
      "source": [
        "f = CubicSpline(y,x, bc_type='natural')\n",
        "y_cub = np.linspace(1980,1998,100)\n",
        "x_cub = f(y_cub)\n",
        "\n",
        "x_ask = f(1984)\n",
        "print (x_ask)"
      ],
      "metadata": {
        "colab": {
          "base_uri": "https://localhost:8080/"
        },
        "id": "PTVnDKYNqAxx",
        "outputId": "801e67f0-5b79-4e81-c8fc-be680d57dec4"
      },
      "execution_count": 19,
      "outputs": [
        {
          "output_type": "stream",
          "name": "stdout",
          "text": [
            "14.13765\n"
          ]
        }
      ]
    },
    {
      "cell_type": "code",
      "source": [
        "f = CubicSpline(y,x, bc_type='natural')\n",
        "y_cub = np.linspace(1980,1998,100)\n",
        "x_cub = f(y_cub)\n",
        "\n",
        "x_ask = f(1986)\n",
        "print (x_ask)"
      ],
      "metadata": {
        "colab": {
          "base_uri": "https://localhost:8080/"
        },
        "id": "b3Q7PaqKqGN3",
        "outputId": "7dceb1a4-ae1c-4d82-e998-b59685b0c1fa"
      },
      "execution_count": 20,
      "outputs": [
        {
          "output_type": "stream",
          "name": "stdout",
          "text": [
            "14.151900000000001\n"
          ]
        }
      ]
    },
    {
      "cell_type": "code",
      "source": [
        "f = CubicSpline(y,x, bc_type='natural')\n",
        "y_cub = np.linspace(1980,1998,100)\n",
        "x_cub = f(y_cub)\n",
        "\n",
        "x_ask = f(1988)\n",
        "print (x_ask)"
      ],
      "metadata": {
        "colab": {
          "base_uri": "https://localhost:8080/"
        },
        "id": "3Q-olqa9qKiY",
        "outputId": "098f8bd8-020e-44a5-e65c-1d659d059d20"
      },
      "execution_count": 21,
      "outputs": [
        {
          "output_type": "stream",
          "name": "stdout",
          "text": [
            "14.2333\n"
          ]
        }
      ]
    },
    {
      "cell_type": "code",
      "source": [
        "f = CubicSpline(y,x, bc_type='natural')\n",
        "y_cub = np.linspace(1980,1998,100)\n",
        "x_cub = f(y_cub)\n",
        "\n",
        "x_ask = f(1990)\n",
        "print (x_ask)"
      ],
      "metadata": {
        "colab": {
          "base_uri": "https://localhost:8080/"
        },
        "id": "a-YkuffnqMHf",
        "outputId": "3ae7e2e6-f017-4783-f5e4-4b703f9f3291"
      },
      "execution_count": 22,
      "outputs": [
        {
          "output_type": "stream",
          "name": "stdout",
          "text": [
            "14.251249999999999\n"
          ]
        }
      ]
    },
    {
      "cell_type": "code",
      "source": [
        "f = CubicSpline(y,x, bc_type='natural')\n",
        "y_cub = np.linspace(1980,1998,100)\n",
        "x_cub = f(y_cub)\n",
        "\n",
        "x_ask = f(1992)\n",
        "print (x_ask)"
      ],
      "metadata": {
        "colab": {
          "base_uri": "https://localhost:8080/"
        },
        "id": "l03QRML2qPMV",
        "outputId": "0baa2121-f6fb-4486-8d4a-caf51a710e50"
      },
      "execution_count": 24,
      "outputs": [
        {
          "output_type": "stream",
          "name": "stdout",
          "text": [
            "14.2454\n"
          ]
        }
      ]
    },
    {
      "cell_type": "code",
      "source": [
        "f = CubicSpline(y,x, bc_type='natural')\n",
        "y_cub = np.linspace(1980,1998,100)\n",
        "x_cub = f(y_cub)\n",
        "\n",
        "x_ask = f(1994)\n",
        "print (x_ask)"
      ],
      "metadata": {
        "colab": {
          "base_uri": "https://localhost:8080/"
        },
        "id": "6ujIgzrMqVw5",
        "outputId": "16ca34ef-50c4-4648-bb05-14c76e71eb0b"
      },
      "execution_count": 25,
      "outputs": [
        {
          "output_type": "stream",
          "name": "stdout",
          "text": [
            "14.2715\n"
          ]
        }
      ]
    },
    {
      "cell_type": "code",
      "source": [
        "f = CubicSpline(y,x, bc_type='natural')\n",
        "y_cub = np.linspace(1980,1998,100)\n",
        "x_cub = f(y_cub)\n",
        "\n",
        "x_ask = f(1996)\n",
        "print (x_ask)"
      ],
      "metadata": {
        "colab": {
          "base_uri": "https://localhost:8080/"
        },
        "id": "0tO35kOxqYIb",
        "outputId": "d2f1d52e-ab45-4e87-d486-dc59f6bb05e6"
      },
      "execution_count": 26,
      "outputs": [
        {
          "output_type": "stream",
          "name": "stdout",
          "text": [
            "14.3882\n"
          ]
        }
      ]
    },
    {
      "cell_type": "code",
      "source": [
        "f = CubicSpline(y,x, bc_type='natural')\n",
        "y_cub = np.linspace(1980,1998,100)\n",
        "x_cub = f(y_cub)\n",
        "\n",
        "x_ask = f(1998)\n",
        "print (x_ask)"
      ],
      "metadata": {
        "colab": {
          "base_uri": "https://localhost:8080/"
        },
        "id": "4u1dQaMwqaWq",
        "outputId": "ab819480-4f6b-4729-8769-eefbeaeb7722"
      },
      "execution_count": 27,
      "outputs": [
        {
          "output_type": "stream",
          "name": "stdout",
          "text": [
            "14.38125\n"
          ]
        }
      ]
    },
    {
      "cell_type": "code",
      "source": [
        "plt.plot(x,y,'ob')\n",
        "plt.plot(x_cub,y_cub,'b')\n",
        "pl.xlabel('Temperature (°C)')\n",
        "pl.ylabel('Year')\n",
        "plt.show()"
      ],
      "metadata": {
        "colab": {
          "base_uri": "https://localhost:8080/",
          "height": 784
        },
        "id": "JYLVPvmmqmAJ",
        "outputId": "e69c85e4-8822-4a19-8ba0-cfdca6ca02e6"
      },
      "execution_count": 28,
      "outputs": [
        {
          "output_type": "display_data",
          "data": {
            "text/plain": [
              "<Figure size 1280x880 with 1 Axes>"
            ],
            "image/png": "[encoded data removed]"
          },
          "metadata": {}
        }
      ]
    },
    {
      "cell_type": "markdown",
      "source": [
        "2a. Fourth order taylor expansion using phyton"
      ],
      "metadata": {
        "id": "sfU8lM61qoQK"
      }
    },
    {
      "cell_type": "code",
      "source": [
        "import sympy as sp"
      ],
      "metadata": {
        "id": "Gzu3Vm_Dqq33"
      },
      "execution_count": 31,
      "outputs": []
    },
    {
      "cell_type": "code",
      "source": [
        "# Define the variable x\n",
        "x = sp.symbols('x')\n",
        "# Compute the fourth-order Taylor expansion for sin(x) around 0\n",
        "sin_taylor = sp.series(sp.sin(x), x, 0, 5).removeO()\n",
        "# Compute the fourth-order Taylor expansion for cos(x) around 0\n",
        "cos_taylor = sp.series(sp.cos(x), x, 0, 5).removeO()\n",
        "# Compute the fourth-order Taylor expansion for sin(x)cos(x) around 0\n",
        "sin_cos_taylor = sp.series(sp.sin(x)*sp.cos(x), x, 0, 5).removeO()\n",
        "# removeO digunakan agar taylor series yang ordenya lebih tinggi dari yang  diminta tidak ikut masuk perhitungan\n",
        "# Print the results\n",
        "print(\"Fourth-order for sin(x):\", sin_taylor)\n",
        "print(\"Fourth-order for cos(x):\", cos_taylor)\n",
        "print(\"Fourth-order for sin(x)cos(x):\", sin_cos_taylor)"
      ],
      "metadata": {
        "colab": {
          "base_uri": "https://localhost:8080/"
        },
        "id": "VR8ULu9Uq_E2",
        "outputId": "06ce79aa-50dc-4be8-99b0-3bdd09a94912"
      },
      "execution_count": 32,
      "outputs": [
        {
          "output_type": "stream",
          "name": "stdout",
          "text": [
            "Fourth-order for sin(x): -x**3/6 + x\n",
            "Fourth-order for cos(x): x**4/24 - x**2/2 + 1\n",
            "Fourth-order for sin(x)cos(x): -2*x**3/3 + x\n"
          ]
        }
      ]
    },
    {
      "cell_type": "markdown",
      "source": [
        "2b. Which produces less error for x=π/2: computing the Taylor expansion for sin and cos separately then multiplying the result together, or computing the Taylor expansion for the product first then plugging in x?"
      ],
      "metadata": {
        "id": "1wZ7pSngrEJt"
      }
    },
    {
      "cell_type": "code",
      "source": [
        "import math\n",
        "\n",
        "def func_sin(x,n):\n",
        "  sin_approx = 0\n",
        "  for i in range(n):\n",
        "    coef = (-1)**i\n",
        "    num = x**((2*i)+1)\n",
        "    denom = math.factorial((2*i)+1)\n",
        "    sin_approx += (coef) * ((num)/(denom))\n",
        "\n",
        "  return sin_approx\n",
        "\n",
        "print(func_sin((22/14), 5))"
      ],
      "metadata": {
        "colab": {
          "base_uri": "https://localhost:8080/"
        },
        "id": "S2UT3kywrFn_",
        "outputId": "79c482f6-e947-4efd-b8ae-8353e2813514"
      },
      "execution_count": 33,
      "outputs": [
        {
          "output_type": "stream",
          "name": "stdout",
          "text": [
            "1.000003358389061\n"
          ]
        }
      ]
    },
    {
      "cell_type": "code",
      "source": [
        "import math\n",
        "\n",
        "def func_cos(x,n):\n",
        "  cos_approx = 0\n",
        "  for i in range(n):\n",
        "    coef = (-1)**i\n",
        "    num = x**(2*i)\n",
        "    denom = math.factorial(2*i)\n",
        "    cos_approx += (coef) * ((num)/(denom))\n",
        "\n",
        "  return cos_approx\n",
        "\n",
        "print(func_cos((22/14), 5))"
      ],
      "metadata": {
        "colab": {
          "base_uri": "https://localhost:8080/"
        },
        "id": "H1BPBHENrJzE",
        "outputId": "2082811c-6c67-4069-f597-2fab3b512b92"
      },
      "execution_count": 34,
      "outputs": [
        {
          "output_type": "stream",
          "name": "stdout",
          "text": [
            "-0.0006074079379143455\n"
          ]
        }
      ]
    },
    {
      "cell_type": "code",
      "source": [
        "import math\n",
        "\n",
        "def func_sincos(x,n):\n",
        "  sincos_approx = 0\n",
        "  for i in range(n):\n",
        "    coef = (-1)**i\n",
        "    num = 2*x**((2*i)+1)\n",
        "    denom = math.factorial((2*i)+1)\n",
        "    sincos_approx += (coef) * ((num)/(denom))\n",
        "\n",
        "  return (0.5*sincos_approx)\n",
        "\n",
        "angle_rad = (math.radians(0.5))\n",
        "out = func_sincos(angle_rad,5)\n",
        "print(out)"
      ],
      "metadata": {
        "colab": {
          "base_uri": "https://localhost:8080/"
        },
        "id": "lRMXBlKqrK8m",
        "outputId": "19fedaaa-15d4-4f91-87d3-c8e1f30843df"
      },
      "execution_count": 35,
      "outputs": [
        {
          "output_type": "stream",
          "name": "stdout",
          "text": [
            "0.008726535498373936\n"
          ]
        }
      ]
    },
    {
      "cell_type": "markdown",
      "source": [
        "2c. Fourth order of Taylor series to approximate cos (π/4) and determine the truncation error bound."
      ],
      "metadata": {
        "id": "NXlK-bukrOw1"
      }
    },
    {
      "cell_type": "code",
      "source": [
        "import math\n",
        "x = math.pi/4\n",
        "cos_taylor = sp.series(sp.cos(x), x, 0, 5).removeO()\n",
        "\n",
        "fifth_derivative = math.cos(x)  # Fifth derivative of cos(x) is also cos(x)\n",
        "error_bound = fifth_derivative * x**5 / math.factorial(5)\n",
        "\n",
        "print(\"Fourth-order Taylor expansion for cos (π/4):\", cos_taylor)\n",
        "print(\"Truncation Error Bound:\", error_bound)"
      ],
      "metadata": {
        "colab": {
          "base_uri": "https://localhost:8080/"
        },
        "id": "N5kILmgwrPaZ",
        "outputId": "4da286db-5eba-4508-a205-af21cb57b253"
      },
      "execution_count": 36,
      "outputs": [
        {
          "output_type": "stream",
          "name": "stdout",
          "text": [
            "Fourth-order Taylor expansion for cos (π/4): 0.707106781186548\n",
            "Truncation Error Bound: 0.0017609748884134296\n"
          ]
        }
      ]
    },
    {
      "cell_type": "markdown",
      "source": [
        "3. 𝑓(𝑥) = 𝑥^3 − 0.3𝑥^2 − 8.56𝑥 + 8.448"
      ],
      "metadata": {
        "id": "04gh_XtjrUa2"
      }
    },
    {
      "cell_type": "markdown",
      "source": [
        "3a. Approximate ∫ 𝑓(𝑥) 𝑑𝑥 interval 0-2𝜋 with 20 evenly-spaced grid points over the whole interval using Riemann Integral, Trapezoid Rule, and Simpson’s Rule. Explain the difference behind each of the method"
      ],
      "metadata": {
        "id": "gjoRMvw0rZGn"
      }
    },
    {
      "cell_type": "code",
      "source": [
        "import numpy as np\n",
        "\n",
        "# Define the function f(x)\n",
        "def f(x):\n",
        "    return x**3 - 0.3*x**2 - 8.56*x + 8.448\n",
        "\n",
        "# Set the number of grid points\n",
        "n = 20\n",
        "\n",
        "# Calculate the grid point spacing\n",
        "a = 0\n",
        "b = 2 * np.pi\n",
        "spacing = (b - a) / n\n",
        "\n",
        "# Calculate the Riemann Integral\n",
        "riemann_integral = spacing * sum(f(a + i * spacing) for i in range(n))\n",
        "\n",
        "# Calculate the Trapezoid Rule approximation\n",
        "trapezoid_rule = 0.5 * spacing * (f(a) + 2 * sum(f(a + i * spacing) for i in range(1, n)) + f(b))\n",
        "\n",
        "# Calculate the Simpson's Rule approximation\n",
        "x_i = [a + i * spacing for i in range(n+1)]\n",
        "simpsons_rule = (1/3) * spacing * (f(x_i[0]) + 4 * sum(f(x_i[i]) for i in range(1, n, 2)) + 2 * sum(f(x_i[i]) for i in range(2, n, 2)) + f(x_i[-1]))\n",
        "\n",
        "# Print the results\n",
        "print(\"Riemann Integral:\", riemann_integral)\n",
        "print(\"Trapezoid Rule:\", trapezoid_rule)\n",
        "print(\"Simpson's Rule:\", simpsons_rule)"
      ],
      "metadata": {
        "colab": {
          "base_uri": "https://localhost:8080/"
        },
        "id": "q9SXYgMHrbTq",
        "outputId": "8f1ea89f-500e-4041-bec8-4c51ffcc1305"
      },
      "execution_count": 37,
      "outputs": [
        {
          "output_type": "stream",
          "name": "stdout",
          "text": [
            "Riemann Integral: 221.2322711083824\n",
            "Trapezoid Rule: 249.88714955383293\n",
            "Simpson's Rule: 248.94406492017316\n"
          ]
        }
      ]
    },
    {
      "cell_type": "code",
      "source": [
        "import numpy as np\n",
        "\n",
        "# Given data points\n",
        "x = np.array([-1.1, -0.3, 0.8, 1.9])\n",
        "f_x = np.array([15.180, 10.962, 1.920, -2.040])\n",
        "\n",
        "# Perform polynomial interpolation\n",
        "coefficients = np.polyfit(x, f_x, deg=3)  # Degree 3 for cubic interpolation\n",
        "p = np.poly1d(coefficients)\n",
        "\n",
        "# Compute the first derivative at x = 0\n",
        "f_prime_0 = p.deriv(1)(0)\n",
        "\n",
        "# Compute the second derivative at x = 0\n",
        "f_double_prime_0 = p.deriv(2)(0)\n",
        "\n",
        "# Print the results\n",
        "print(\"f'(x) at x = 0:\", f_prime_0)\n",
        "print(\"f''(x) at x = 0:\", f_double_prime_0)"
      ],
      "metadata": {
        "colab": {
          "base_uri": "https://localhost:8080/"
        },
        "id": "dFdOaSrPrgDi",
        "outputId": "c0537195-b6c4-46b4-bcc3-e393f3287be0"
      },
      "execution_count": 38,
      "outputs": [
        {
          "output_type": "stream",
          "name": "stdout",
          "text": [
            "f'(x) at x = 0: -8.405855263157896\n",
            "f''(x) at x = 0: -1.6421052631578934\n"
          ]
        }
      ]
    },
    {
      "cell_type": "markdown",
      "source": [
        "3d. Calculate the accuracy result compared to the initial 𝑓(𝑥)"
      ],
      "metadata": {
        "id": "z4LbSrUVrhlT"
      }
    },
    {
      "cell_type": "code",
      "source": [
        "# Calculate the exact values of the derivatives at x = 0\n",
        "exact_f_prime_0 = 3 * 0**2 - 0.6 * 0 - 8.56\n",
        "exact_f_double_prime_0 = 6 * 0 - 0.6\n",
        "\n",
        "# Print the exact values\n",
        "print(\"Exact first derivative at x = 0:\", exact_f_prime_0)\n",
        "print(\"Exact second derivative at x = 0:\", exact_f_double_prime_0)\n",
        "\n",
        "# Calculate the accuracy\n",
        "accuracy_f_prime = abs((f_prime_0 - exact_f_prime_0) / exact_f_prime_0) * 100\n",
        "accuracy_f_double_prime = abs((f_double_prime_0 - exact_f_double_prime_0) / exact_f_double_prime_0) * 100\n",
        "\n",
        "# Print the accuracy\n",
        "print(\"Accuracy of the first derivative at x = 0:\", accuracy_f_prime, \"%\")\n",
        "print(\"Accuracy of the second derivative at x = 0:\", accuracy_f_double_prime, \"%\")"
      ],
      "metadata": {
        "colab": {
          "base_uri": "https://localhost:8080/"
        },
        "id": "3YryJ1PQrkP0",
        "outputId": "dff5fca4-2c5f-458d-dae2-83ceb3ed4b26"
      },
      "execution_count": 39,
      "outputs": [
        {
          "output_type": "stream",
          "name": "stdout",
          "text": [
            "Exact first derivative at x = 0: -8.56\n",
            "Exact second derivative at x = 0: -0.6\n",
            "Accuracy of the first derivative at x = 0: 1.8007562715199095 %\n",
            "Accuracy of the second derivative at x = 0: 173.6842105263156 %\n"
          ]
        }
      ]
    }
  ]
}