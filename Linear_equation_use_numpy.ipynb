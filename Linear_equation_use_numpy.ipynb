{
  "nbformat": 4,
  "nbformat_minor": 0,
  "metadata": {
    "colab": {
      "provenance": []
    },
    "kernelspec": {
      "name": "python3",
      "display_name": "Python 3"
    },
    "language_info": {
      "name": "python"
    }
  },
  "cells": [
    {
      "cell_type": "code",
      "execution_count": 1,
      "metadata": {
        "colab": {
          "base_uri": "https://localhost:8080/"
        },
        "id": "51LKEUo11DO4",
        "outputId": "86ac27f2-4d2a-40df-8936-279288d5e066"
      },
      "outputs": [
        {
          "output_type": "stream",
          "name": "stdout",
          "text": [
            "[ 2.20833333 -2.58333333 -0.18333333]\n"
          ]
        }
      ],
      "source": [
        "import numpy as np\n",
        "\n",
        "A =np.array([[4,3,-5],\n",
        "        [-2,-4,5],\n",
        "        [8,8,0]])\n",
        "y = np.array([2,5,-3])\n",
        "\n",
        "x = np.linalg.solve(A,y)\n",
        "print(x)"
      ]
    },
    {
      "cell_type": "code",
      "source": [
        "A_inv = np.linalg.inv(A)\n",
        "\n",
        "x = np.dot(A_inv,y)\n",
        "print(x)"
      ],
      "metadata": {
        "colab": {
          "base_uri": "https://localhost:8080/"
        },
        "id": "qE5qbuGN1ZAW",
        "outputId": "a31479f7-783f-4da6-84b5-cc4adfbfdb80"
      },
      "execution_count": 2,
      "outputs": [
        {
          "output_type": "stream",
          "name": "stdout",
          "text": [
            "[ 2.20833333 -2.58333333 -0.18333333]\n"
          ]
        }
      ]
    }
  ]
}